{
 "cells": [
  {
   "cell_type": "code",
   "execution_count": 5,
   "id": "d5dad320",
   "metadata": {},
   "outputs": [
    {
     "name": "stdout",
     "output_type": "stream",
     "text": [
      "Processing: sun\n",
      "\n",
      "🎯 Done! Dataset saved in folder: quickdraw_64x64\\add_more\n"
     ]
    }
   ],
   "source": [
    "import os\n",
    "import json\n",
    "import requests\n",
    "import random\n",
    "import string\n",
    "from PIL import Image, ImageDraw\n",
    "\n",
    "# --- CÁC LỚP MUỐN TẢI ---\n",
    "# categories = [\n",
    "#     'apple', 'soccer ball', 'hat', 'laptop', 'cup', 'moon', 'sun', 'guitar', 'pants', 'sock',\n",
    "#     'diamond', 'watermelon', 'fish', 'circle', 'triangle', 'pencil', 'headphones',\n",
    "#     'wine glass', 'cloud', 't-shirt'\n",
    "# ]\n",
    "categories = [\n",
    "    'sun'\n",
    "]\n",
    "# --- THƯ MỤC LƯU DỮ LIỆU ---\n",
    "save_root = r'quickdraw_64x64\\add_more'\n",
    "os.makedirs(save_root, exist_ok=True)\n",
    "\n",
    "# --- SỐ LƯỢNG MẪU MỖI CLASS ---\n",
    "num_samples = 22\n",
    "\n",
    "def random_name(n=3):\n",
    "    \"\"\"Tạo chuỗi gồm n chữ cái ngẫu nhiên (A-Z)\"\"\"\n",
    "    return ''.join(random.choices(string.ascii_lowercase, k=n))\n",
    "\n",
    "# --- DUYỆT QUA TỪNG CLASS ---\n",
    "for cls in categories:\n",
    "    print(f\"Processing: {cls}\")\n",
    "    save_dir = os.path.join(save_root, cls)\n",
    "    os.makedirs(save_dir, exist_ok=True)\n",
    "\n",
    "    url = f\"https://storage.googleapis.com/quickdraw_dataset/full/simplified/{cls}.ndjson\"\n",
    "    response = requests.get(url)\n",
    "    data_lines = response.text.splitlines()\n",
    "\n",
    "    valid_drawings = [\n",
    "        json.loads(line)[\"drawing\"]\n",
    "        for line in data_lines\n",
    "        if json.loads(line).get(\"recognized\", False) and len(json.loads(line)[\"drawing\"]) >= 2\n",
    "    ]\n",
    "\n",
    "    samples = random.sample(valid_drawings, min(num_samples, len(valid_drawings)))\n",
    "\n",
    "    for drawing in samples:\n",
    "        # Tạo canvas trắng 256x256\n",
    "        img = Image.new(\"L\", (256, 256), 255)\n",
    "        draw = ImageDraw.Draw(img)\n",
    "        for stroke in drawing:\n",
    "            points = list(zip(stroke[0], stroke[1]))\n",
    "            draw.line(points, fill=0, width=5)\n",
    "        \n",
    "        # Resize về 64x64\n",
    "        img = img.resize((64, 64))\n",
    "        \n",
    "        # Đặt tên file ngẫu nhiên 3 chữ cái\n",
    "        filename = random_name(3) + \".png\"\n",
    "        save_path = os.path.join(save_dir, filename)\n",
    "        \n",
    "        # Nếu trùng tên, sinh lại\n",
    "        while os.path.exists(save_path):\n",
    "            filename = random_name(3) + \".png\"\n",
    "            save_path = os.path.join(save_dir, filename)\n",
    "\n",
    "        img.save(save_path)\n",
    "\n",
    "print(\"\\n🎯 Done! Dataset saved in folder:\", save_root)\n"
   ]
  },
  {
   "cell_type": "code",
   "execution_count": 1,
   "id": "2ec59631",
   "metadata": {},
   "outputs": [
    {
     "name": "stdout",
     "output_type": "stream",
     "text": [
      "Đổi tên ảnh hoàn tất!\n"
     ]
    }
   ],
   "source": [
    "import os\n",
    "\n",
    "# Thư mục gốc chứa các folder label\n",
    "root_dir = r\"C:\\Users\\PC\\OneDrive\\Desktop\\DPL302m\\QuickDraw\\other dataset\"\n",
    "\n",
    "# Khởi tạo bộ đếm global để đảm bảo tên ảnh không trùng nhau\n",
    "counter = 1\n",
    "\n",
    "for label_folder in os.listdir(root_dir):\n",
    "    label_path = os.path.join(root_dir, label_folder)\n",
    "    if not os.path.isdir(label_path):\n",
    "        continue\n",
    "\n",
    "    for filename in os.listdir(label_path):\n",
    "        file_path = os.path.join(label_path, filename)\n",
    "        # Lấy phần mở rộng file\n",
    "        ext = os.path.splitext(filename)[1]\n",
    "        # Tạo tên mới dạng 4 chữ số\n",
    "        new_name = f\"{counter:04d}{ext}\"\n",
    "        new_path = os.path.join(label_path, new_name)\n",
    "        # Đổi tên file\n",
    "        os.rename(file_path, new_path)\n",
    "        counter += 1\n",
    "\n",
    "print(\"Đổi tên ảnh hoàn tất!\")\n"
   ]
  }
 ],
 "metadata": {
  "kernelspec": {
   "display_name": "Python 3",
   "language": "python",
   "name": "python3"
  },
  "language_info": {
   "codemirror_mode": {
    "name": "ipython",
    "version": 3
   },
   "file_extension": ".py",
   "mimetype": "text/x-python",
   "name": "python",
   "nbconvert_exporter": "python",
   "pygments_lexer": "ipython3",
   "version": "3.12.10"
  }
 },
 "nbformat": 4,
 "nbformat_minor": 5
}
